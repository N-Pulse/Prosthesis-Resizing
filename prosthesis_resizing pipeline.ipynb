{
 "cells": [
  {
   "cell_type": "code",
   "execution_count": 1,
   "metadata": {},
   "outputs": [
    {
     "name": "stdout",
     "output_type": "stream",
     "text": [
      "Jupyter environment detected. Enabling Open3D WebVisualizer.\n",
      "[Open3D INFO] WebRTC GUI backend enabled.\n",
      "[Open3D INFO] WebRTCWindowSystem: HTTP handshake server disabled.\n"
     ]
    }
   ],
   "source": [
    "import open3d as o3d\n",
    "import numpy as np\n",
    "\n",
    "# Load the STL files for stump and socket\n",
    "stump_mesh = o3d.io.read_triangle_mesh(\"stump.stl\")\n",
    "socket_mesh = o3d.io.read_triangle_mesh(\"socket.stl\")\n",
    "\n",
    "# Convert the meshes to point clouds for easier handling if necessary\n",
    "stump_pcd = stump_mesh.sample_points_uniformly(number_of_points=2000)\n",
    "socket_pcd = socket_mesh.sample_points_uniformly(number_of_points=2000)\n",
    "\n",
    "# Visualize the initial stump and socket\n",
    "o3d.visualization.draw_geometries([stump_mesh, socket_mesh], window_name=\"Initial Stump and Socket\")\n"
   ]
  },
  {
   "cell_type": "code",
   "execution_count": 6,
   "metadata": {},
   "outputs": [
    {
     "name": "stdout",
     "output_type": "stream",
     "text": [
      "[Open3D WARNING] GLFW Error: WGL: Failed to make context current: The handle is invalid. \n"
     ]
    }
   ],
   "source": [
    "import copy\n",
    "\n",
    "# Compute centroids\n",
    "stump_center = stump_pcd.get_center()\n",
    "socket_center = socket_pcd.get_center()\n",
    "\n",
    "# Create deep copies of the original meshes for centered versions\n",
    "centered_stump_mesh = copy.deepcopy(stump_mesh)\n",
    "centered_socket_mesh = copy.deepcopy(socket_mesh)\n",
    "\n",
    "# Create deep copies of the original meshes for centered versions\n",
    "centered_stump_pcd = copy.deepcopy(stump_pcd)\n",
    "centered_socket_pcd = copy.deepcopy(socket_pcd)\n",
    "\n",
    "# Translate the copied meshes to center them\n",
    "centered_stump_mesh.translate(-stump_center)\n",
    "centered_socket_mesh.translate(-socket_center)\n",
    "\n",
    "centered_stump_pcd.translate(-stump_center)\n",
    "centered_socket_pcd.translate(-socket_center)\n",
    "\n",
    "o3d.visualization.draw_geometries([centered_stump_pcd, centered_socket_pcd], window_name=\"Centered Stump and Socket\")\n"
   ]
  },
  {
   "cell_type": "code",
   "execution_count": 9,
   "metadata": {},
   "outputs": [
    {
     "name": "stdout",
     "output_type": "stream",
     "text": [
      "-112.39074843111914 -30.794975756232247 84.96925908073675\n"
     ]
    }
   ],
   "source": [
    "# Find the Z-coordinate of the stump tip (lowest point in Z)\n",
    "socket_bottom_z = np.min(np.asarray(centered_socket_pcd.points)[:, 2])\n",
    "stump_bottom_z = np.min(np.asarray(centered_stump_pcd.points)[:, 2])\n",
    "stump_top_z = np.max(np.asarray(centered_stump_pcd.points)[:, 2])\n",
    "print (socket_bottom_z, stump_bottom_z, stump_top_z)\n",
    "\n",
    "# Calculate required translation along the Z-axis\n",
    "desired_depth = -70  # some amount of cm into the socket, can be changed \n",
    "current_difference_z = socket_bottom_z - stump_top_z\n",
    "stump_translation_z = desired_depth-current_difference_z \n",
    "translated_and_centered_stump_pcd = copy.deepcopy(centered_stump_pcd)\n",
    "translated_and_centered_stump_mesh = copy.deepcopy(centered_stump_mesh)\n",
    "\n",
    "# Translate the stump along Z-axis\n",
    "translated_and_centered_stump_pcd.translate([0, 0, -stump_translation_z])\n",
    "translated_and_centered_stump_mesh.translate([0, 0, -stump_translation_z])  # Translate original mesh as well\n",
    "\n",
    "# Visualize the positioned stump within the socket\n",
    "o3d.visualization.draw_geometries([translated_and_centered_stump_pcd, centered_socket_pcd], window_name=\"Positioned Stump in Socket\")\n",
    "# o3d.visualization.draw_geometries([translated_and_centered_stump_pcd, centered_stump_pcd], window_name=\"Positioned Stump in Socket\")\n",
    "# o3d.visualization.draw_geometries([translated_and_centered_stump_mesh, centered_socket_mesh], window_name=\"Positioned Stump in Socket\")\n"
   ]
  },
  {
   "cell_type": "code",
   "execution_count": null,
   "metadata": {},
   "outputs": [
    {
     "name": "stdout",
     "output_type": "stream",
     "text": [
      "[Open3D WARNING] GLFW Error: WGL: Failed to make context current: The requested transformation operation is not supported. \n"
     ]
    }
   ],
   "source": [
    "electrode_positions = [\n",
    "    [0,0,0]\n",
    "    ] #these are coordinates provided by william\n",
    "# Calculate center for scaling\n",
    "# Here, we must calculate the maximum diameter, and scale until we scale by a certain factor\n",
    "scaling_factor = 1.5 # Adjust to control gap size\n",
    "scaled_vertices = []\n",
    "\n",
    "scaled_stump_mesh = copy.deepcopy(translated_and_centered_stump_mesh)\n",
    "stump_new_center = translated_and_centered_stump_pcd.get_center()\n",
    "\n",
    "# Convert stump vertices to NumPy array for manipulation\n",
    "stump_vertices = copy.deepcopy(np.asarray(scaled_stump_mesh.vertices))\n",
    "np.append(stump_vertices, electrode_positions)\n",
    "# Scale non-electrode points outward from the center\n",
    "for point in stump_vertices:\n",
    "    if any(np.allclose(point, electrode, atol=1e-3) for electrode in electrode_positions):\n",
    "        scaled_vertices.append(point)  # Keep electrode points fixed\n",
    "    else:\n",
    "        direction = point - stump_new_center\n",
    "        scaled_point = stump_new_center + direction * scaling_factor #Considers center to be 0,0,Z but check this\n",
    "        scaled_vertices.append(scaled_point)\n",
    "\n",
    "# Update stump mesh with scaled vertices for inner socket surface\n",
    "scaled_stump_mesh.vertices = o3d.utility.Vector3dVector(scaled_vertices)\n",
    "\n",
    "stump_bottom_z = np.min(np.asarray(translated_and_centered_stump_pcd.points)[:, 2])\n",
    "stump_top_z = np.max(np.asarray(centered_stump_pcd.points)[:, 2])\n",
    "\n",
    "scaled_stump_pcd = scaled_stump_mesh.sample_points_uniformly(number_of_points=2000)\n",
    "\n",
    "# Visualize the scaled stump\n",
    "o3d.visualization.draw_geometries([scaled_stump_pcd, translated_and_centered_stump_mesh], window_name=\"Scaled Stump for Inner Socket Surface\")\n"
   ]
  },
  {
   "cell_type": "markdown",
   "metadata": {},
   "source": [
    "### Add electrode positions"
   ]
  },
  {
   "cell_type": "code",
   "execution_count": 19,
   "metadata": {},
   "outputs": [
    {
     "name": "stderr",
     "output_type": "stream",
     "text": [
      "\n",
      "KeyboardInterrupt\n",
      "\n"
     ]
    }
   ],
   "source": [
    "from sklearn.neighbors import NearestNeighbors\n",
    "\n",
    "# Function to calculate normals and translate electrodes along the normal direction\n",
    "def calculate_normals(mesh, points, neighbors=10):\n",
    "    normals = []\n",
    "    mesh_points = np.asarray(mesh.vertices)\n",
    "    nbrs = NearestNeighbors(n_neighbors=neighbors).fit(mesh_points)\n",
    "    for point in points:\n",
    "        _, indices = nbrs.kneighbors([point])\n",
    "        # Compute normal as average cross-product of nearest neighbors\n",
    "        v1 = mesh_points[indices[0][1]] - point\n",
    "        v2 = mesh_points[indices[0][2]] - point\n",
    "        normal = np.cross(v1, v2)\n",
    "        normal /= np.linalg.norm(normal)  # Normalize the vector\n",
    "        normals.append(normal)\n",
    "    return np.array(normals)\n",
    "\n",
    "# Calculate normals at each electrode and translate outward\n",
    "normals = calculate_normals(stump_mesh, electrode_positions)\n",
    "offset_distance = 0.01  # Adjust distance\n",
    "translated_electrodes = electrode_positions + normals * offset_distance\n",
    "\n",
    "# Visualize moved electrodes\n",
    "electrode_pcd = o3d.geometry.PointCloud()\n",
    "electrode_pcd.points = o3d.utility.Vector3dVector(translated_electrodes)\n",
    "o3d.visualization.draw_geometries([stump_mesh, socket_mesh, electrode_pcd], window_name=\"Electrode Positions Adjusted\")\n"
   ]
  },
  {
   "cell_type": "code",
   "execution_count": null,
   "metadata": {},
   "outputs": [
    {
     "name": "stdout",
     "output_type": "stream",
     "text": [
      "[Open3D WARNING] The number of points is 0 when creating axis-aligned bounding box.\n",
      "[Open3D WARNING] GLFW Error: WGL: Failed to make context current: The requested transformation operation is not supported. \n"
     ]
    }
   ],
   "source": [
    "# Visualize cylindrical holes for electrodes\n",
    "holes = []\n",
    "hole_radius = 0.005  # Adjust hole size\n",
    "for electrode in translated_electrodes:\n",
    "    # Create a cylinder for each electrode\n",
    "    cylinder = o3d.geometry.TriangleMesh.create_cylinder(radius=hole_radius, height=0.02)\n",
    "    cylinder.paint_uniform_color([1, 0, 0])  # Color for visualization\n",
    "    cylinder.translate(electrode)  # Position at electrode\n",
    "    holes.append(cylinder)\n",
    "\n",
    "# Visualize the final setup\n",
    "o3d.visualization.draw_geometries([socket_mesh, stump_mesh, electrode_pcd] + holes, window_name=\"Final Socket with Electrode Positions\")\n"
   ]
  },
  {
   "cell_type": "markdown",
   "metadata": {},
   "source": [
    "### Perform boolean subtraction"
   ]
  },
  {
   "cell_type": "code",
   "execution_count": null,
   "metadata": {},
   "outputs": [],
   "source": []
  }
 ],
 "metadata": {
  "kernelspec": {
   "display_name": "base",
   "language": "python",
   "name": "python3"
  },
  "language_info": {
   "codemirror_mode": {
    "name": "ipython",
    "version": 3
   },
   "file_extension": ".py",
   "mimetype": "text/x-python",
   "name": "python",
   "nbconvert_exporter": "python",
   "pygments_lexer": "ipython3",
   "version": "3.11.5"
  }
 },
 "nbformat": 4,
 "nbformat_minor": 2
}
