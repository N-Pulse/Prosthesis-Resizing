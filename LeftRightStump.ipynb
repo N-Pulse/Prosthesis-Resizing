{
 "cells": [
  {
   "cell_type": "markdown",
   "metadata": {},
   "source": [
    "Notebook to split the stump\\\n",
    "Press \"Run All\", visualize the output and both files(left and right stump) will be downloaded on your desktop\n",
    " "
   ]
  },
  {
   "cell_type": "code",
   "execution_count": null,
   "metadata": {},
   "outputs": [],
   "source": [
    "import numpy as np\n",
    "from stl import mesh\n",
    "import open3d as o3d\n",
    "import os"
   ]
  },
  {
   "cell_type": "markdown",
   "metadata": {},
   "source": [
    "Aligns the stump to the y-axis, can be aligned to any axis needed\\\n",
    "Already in the \"wrapping\" code for the z axis"
   ]
  },
  {
   "cell_type": "code",
   "execution_count": null,
   "metadata": {},
   "outputs": [],
   "source": [
    "def align_to_y_axis(stl_mesh):\n",
    "\n",
    "    vertices = np.asarray(stl_mesh.vectors).reshape(-1, 3)\n",
    "    center_of_mass = np.mean(vertices, axis=0)\n",
    "    centered_vertices = vertices - center_of_mass  \n",
    "    cov = np.cov(centered_vertices.T)  \n",
    "    eigenvalues, eigenvectors = np.linalg.eig(cov)  \n",
    "\n",
    "    # Extract the principal axis\n",
    "    principal_axis = eigenvectors[:, np.argmax(eigenvalues)]  # Principal axis\n",
    "\n",
    "    y_axis = np.array([0, 1, 0])  \n",
    "    v = np.cross(principal_axis, y_axis)  \n",
    "    s = np.linalg.norm(v) \n",
    "    if s < 1e-6:\n",
    "        return stl_mesh  \n",
    "\n",
    "    c = np.dot(principal_axis, y_axis)  \n",
    "    v_skew = np.array([\n",
    "        [0, -v[2], v[1]],\n",
    "        [v[2], 0, -v[0]],\n",
    "        [-v[1], v[0], 0]\n",
    "    ])  \n",
    "    rotation_matrix = np.eye(3) + v_skew + np.dot(v_skew, v_skew) * ((1 - c) / (s ** 2))\n",
    "\n",
    "    for i, triangle in enumerate(stl_mesh.vectors):\n",
    "        stl_mesh.vectors[i] = np.dot(triangle - center_of_mass, rotation_matrix.T) + center_of_mass\n",
    "\n",
    "    translation = [-center_of_mass[0], 0, -center_of_mass[2]]\n",
    "    stl_mesh.translate(translation)\n",
    "    return stl_mesh"
   ]
  },
  {
   "cell_type": "markdown",
   "metadata": {},
   "source": [
    "Splits the stumps along the y-axis"
   ]
  },
  {
   "cell_type": "code",
   "execution_count": null,
   "metadata": {},
   "outputs": [],
   "source": [
    "def split_stl_parallel_to_y_axis(input_file, output_file_1, output_file_2):\n",
    "\n",
    "    stl_mesh = mesh.Mesh.from_file(input_file)\n",
    "\n",
    "    # Align the mesh to the Y-axis\n",
    "    aligned_mesh = align_to_y_axis(stl_mesh)\n",
    "\n",
    "    \n",
    "    triangles_left = []\n",
    "    triangles_right = []\n",
    "    for triangle in aligned_mesh.vectors:\n",
    "        centroid = np.mean(triangle, axis=0)\n",
    "        if centroid[0] >= 0: \n",
    "            triangles_right.append(triangle)\n",
    "        else:  \n",
    "            triangles_left.append(triangle)\n",
    "\n",
    "\n",
    "    left_mesh = mesh.Mesh(np.zeros(len(triangles_left), dtype=mesh.Mesh.dtype))\n",
    "    right_mesh = mesh.Mesh(np.zeros(len(triangles_right), dtype=mesh.Mesh.dtype))\n",
    "\n",
    "    for i, triangle in enumerate(triangles_left):\n",
    "        left_mesh.vectors[i] = triangle\n",
    "    for i, triangle in enumerate(triangles_right):\n",
    "        right_mesh.vectors[i] = triangle\n",
    "\n",
    "    desktop_path = os.path.join(os.path.expanduser(\"~\"), \"Desktop\")  # Get desktop path dynamically\n",
    "    left_mesh.save(os.path.join(desktop_path, output_file_1))\n",
    "    right_mesh.save(os.path.join(desktop_path, output_file_2))\n",
    "\n",
    "    print(f\"Saved left part to {os.path.join(desktop_path, output_file_1)}\")\n",
    "    print(f\"Saved right part to {os.path.join(desktop_path, output_file_2)}\")\n",
    "\n",
    "    # Visualize both parts using Open3D\n",
    "    visualize_stl_parts_open3d(os.path.join(desktop_path, output_file_1), os.path.join(desktop_path, output_file_2))"
   ]
  },
  {
   "cell_type": "markdown",
   "metadata": {},
   "source": [
    "Saves the Left and Right part of the stump on your desktop (on MacOS, maybe not on windows idk ...)"
   ]
  },
  {
   "cell_type": "code",
   "execution_count": null,
   "metadata": {},
   "outputs": [],
   "source": [
    "def visualize_stl_parts_open3d(file1, file2):\n",
    "    mesh1 = o3d.io.read_triangle_mesh(file1)\n",
    "    mesh2 = o3d.io.read_triangle_mesh(file2)\n",
    "\n",
    "    mesh1.paint_uniform_color([1, 0, 0])  # Red\n",
    "    mesh2.paint_uniform_color([0, 0, 1])  # Blue\n",
    "\n",
    "    o3d.visualization.draw_geometries([mesh1, mesh2], window_name=\"Split STL Visualization\")"
   ]
  },
  {
   "cell_type": "markdown",
   "metadata": {},
   "source": [
    "Defines the files & calls the functions"
   ]
  },
  {
   "cell_type": "code",
   "execution_count": null,
   "metadata": {},
   "outputs": [],
   "source": [
    "input_stl = \"stump.stl\"  # Input file name\n",
    "output_stl_left = \"stump_left.stl\"  # Left part output file name\n",
    "output_stl_right = \"stump_right.stl\"  # Right part output file name\n",
    "\n",
    "split_stl_parallel_to_y_axis(input_stl, output_stl_left, output_stl_right)"
   ]
  }
 ],
 "metadata": {
  "kernelspec": {
   "display_name": "npulse",
   "language": "python",
   "name": "python3"
  },
  "language_info": {
   "codemirror_mode": {
    "name": "ipython",
    "version": 3
   },
   "file_extension": ".py",
   "mimetype": "text/x-python",
   "name": "python",
   "nbconvert_exporter": "python",
   "pygments_lexer": "ipython3",
   "version": "3.8.20"
  }
 },
 "nbformat": 4,
 "nbformat_minor": 2
}
