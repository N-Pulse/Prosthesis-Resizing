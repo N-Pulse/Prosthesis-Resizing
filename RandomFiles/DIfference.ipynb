{
 "cells": [
  {
   "cell_type": "markdown",
   "metadata": {},
   "source": [
    "imports/loads"
   ]
  },
  {
   "cell_type": "code",
   "execution_count": 5,
   "metadata": {},
   "outputs": [
    {
     "name": "stdout",
     "output_type": "stream",
     "text": [
      "Before cleaning:\n",
      "Stump Mesh: TriangleMesh with 8421 points and 16821 triangles.\n",
      "Socket Mesh: TriangleMesh with 804 points and 666 triangles.\n",
      "After cleaning:\n",
      "Stump Mesh: TriangleMesh with 8421 points and 16817 triangles.\n",
      "Socket Mesh: TriangleMesh with 335 points and 666 triangles.\n",
      "\u001b[1;33m[Open3D WARNING] GLFW Error: Cocoa: Failed to find service port for display\u001b[0;m\n",
      "\u001b[1;33m[Open3D WARNING] GLFW Error: Cocoa: Failed to find service port for display\u001b[0;m\n"
     ]
    },
    {
     "name": "stderr",
     "output_type": "stream",
     "text": [
      "2024-12-08 00:30:46.355 python[27338:1464435] +[IMKClient subclass]: chose IMKClient_Modern\n",
      "2024-12-08 00:30:46.355 python[27338:1464435] +[IMKInputSession subclass]: chose IMKInputSession_Modern\n"
     ]
    }
   ],
   "source": [
    "import open3d as o3d\n",
    "import numpy as np\n",
    "\n",
    "# Load the stump and socket meshes\n",
    "stump_mesh = o3d.io.read_triangle_mesh(\"stump.stl\")\n",
    "socket_mesh = o3d.io.read_triangle_mesh(\"socket.stl\")\n",
    "\n",
    "# Check if meshes are valid\n",
    "print(\"Before cleaning:\")\n",
    "print(\"Stump Mesh:\", stump_mesh)\n",
    "print(\"Socket Mesh:\", socket_mesh)\n",
    "\n",
    "# Clean the meshes\n",
    "stump_mesh.remove_duplicated_vertices()\n",
    "stump_mesh.remove_degenerate_triangles()\n",
    "stump_mesh.remove_duplicated_triangles()\n",
    "stump_mesh.remove_non_manifold_edges()\n",
    "\n",
    "socket_mesh.remove_duplicated_vertices()\n",
    "socket_mesh.remove_degenerate_triangles()\n",
    "socket_mesh.remove_duplicated_triangles()\n",
    "socket_mesh.remove_non_manifold_edges()\n",
    "\n",
    "print(\"After cleaning:\")\n",
    "print(\"Stump Mesh:\", stump_mesh)\n",
    "print(\"Socket Mesh:\", socket_mesh)\n",
    "\n",
    "# Sample points uniformly from the cleaned meshes\n",
    "stump_pcd = stump_mesh.sample_points_uniformly(number_of_points=3000)\n",
    "socket_pcd = socket_mesh.sample_points_uniformly(number_of_points=3000)\n",
    "\n",
    "# Visualize the original mesh and sampled points\n",
    "o3d.visualization.draw_geometries([stump_mesh, stump_pcd], window_name=\"Stump Mesh and Points\")\n",
    "o3d.visualization.draw_geometries([socket_mesh, socket_pcd], window_name=\"Socket Mesh and Points\")"
   ]
  },
  {
   "cell_type": "markdown",
   "metadata": {},
   "source": [
    "Resize so that the scales are similar\n",
    "Modify the \"margin\" parameter"
   ]
  },
  {
   "cell_type": "code",
   "execution_count": 6,
   "metadata": {},
   "outputs": [
    {
     "name": "stdout",
     "output_type": "stream",
     "text": [
      "Maximum Radius: 0.5883575332901089\n",
      "Initial Stump Max Radius: 0.5883575332901089\n",
      "Initial Socket Radius: 147.48076629638672\n",
      "Scaled the socket by factor: 0.004667439358883869\n",
      "Final Stump Max Radius: 0.5883575332901089\n",
      "Final Socket Radius: 0.6883575332901088\n",
      "Margin: 0.09999999999999998 (should be 0.1)\n"
     ]
    }
   ],
   "source": [
    "# Function to get the size of a mesh\n",
    "def get_mesh_size(mesh):\n",
    "    min_bound = mesh.get_min_bound()\n",
    "    max_bound = mesh.get_max_bound()\n",
    "    size = max_bound - min_bound  # Size along X, Y, Z\n",
    "    return size\n",
    "\n",
    "# Function to find the maximum radius of the stump\n",
    "def find_max_radius(mesh):\n",
    "    vertices = np.asarray(mesh.vertices)\n",
    "    # Compute the distance of each vertex from the Y-axis (radius in X-Z plane)\n",
    "    radii = np.sqrt(vertices[:, 0]**2 + vertices[:, 2]**2)  # sqrt(x^2 + z^2)\n",
    "    max_radius = np.max(radii)  # Maximum radius\n",
    "    print(f\"Maximum Radius: {max_radius}\")\n",
    "    return max_radius\n",
    "\n",
    "# Algorithm to adjust stump and socket radii with a fixed margin\n",
    "def adjust_radii_with_fixed_margin(stump_mesh, socket_mesh, margin):\n",
    "    # Find the maximum radius of the stump\n",
    "    stump_max_radius = find_max_radius(stump_mesh)\n",
    "\n",
    "    # Get the average radius of the socket\n",
    "    socket_size = get_mesh_size(socket_mesh)\n",
    "    socket_radius = (socket_size[0] + socket_size[2]) / 2\n",
    "\n",
    "    print(f\"Initial Stump Max Radius: {stump_max_radius}\")\n",
    "    print(f\"Initial Socket Radius: {socket_radius}\")\n",
    "\n",
    "    # Calculate the desired socket radius\n",
    "    desired_socket_radius = stump_max_radius + margin\n",
    "\n",
    "    # Adjust the socket to match the desired radius\n",
    "    if abs(socket_radius - desired_socket_radius) > 1e-6:  # Avoid tiny floating-point differences\n",
    "        scale_factor = desired_socket_radius / socket_radius\n",
    "        socket_mesh.scale(scale_factor, center=(0, 0, 0))  # Scale around the origin\n",
    "        print(f\"Scaled the socket by factor: {scale_factor}\")\n",
    "\n",
    "    # Recalculate the socket radius after scaling\n",
    "    socket_size = get_mesh_size(socket_mesh)\n",
    "    socket_radius = (socket_size[0] + socket_size[2]) / 2\n",
    "\n",
    "    print(f\"Final Stump Max Radius: {stump_max_radius}\")\n",
    "    print(f\"Final Socket Radius: {socket_radius}\")\n",
    "    print(f\"Margin: {socket_radius - stump_max_radius} (should be {margin})\")\n",
    "\n",
    "    return stump_mesh, socket_mesh\n",
    "\n",
    "# Set the desired margin\n",
    "margin = 0.1  # The fixed difference between the socket radius and the stump max radius\n",
    "\n",
    "# Adjust the stump and socket radii to respect the margin\n",
    "adj_stump_mesh, adj_socket_mesh = adjust_radii_with_fixed_margin(stump_mesh, socket_mesh, margin)"
   ]
  },
  {
   "cell_type": "markdown",
   "metadata": {},
   "source": [
    "aligns + merges them \n",
    "Play with the \"offset\" parameter to ajust the depth of the stu,p in the socket"
   ]
  },
  {
   "cell_type": "code",
   "execution_count": 7,
   "metadata": {},
   "outputs": [
    {
     "name": "stdout",
     "output_type": "stream",
     "text": [
      "Principal Component Axis: [0.13612773 0.88551163 0.44422785]\n",
      "Principal Component Axis: [-4.54222915e-19  0.00000000e+00 -1.00000000e+00]\n",
      "Displaying adjusted and aligned socket and stump\n",
      "\u001b[1;33m[Open3D WARNING] GLFW Error: Cocoa: Failed to find service port for display\u001b[0;m\n",
      "\u001b[1;33m[Open3D WARNING] GLFW Error: Cocoa: Failed to find service port for display\u001b[0;m\n"
     ]
    }
   ],
   "source": [
    "# Function to align a mesh to the Y-axis\n",
    "def align_to_y_axis(mesh):\n",
    "    vertices = np.asarray(mesh.vertices)\n",
    "    center_of_mass = np.mean(vertices, axis=0)  # Center of mass\n",
    "    centered_vertices = vertices - center_of_mass  # Centered vertices\n",
    "    cov = np.cov(centered_vertices.T)  # Covariance matrix\n",
    "    eigenvalues, eigenvectors = np.linalg.eig(cov)  # Eigen decomposition\n",
    "\n",
    "    # Extract the first principal component\n",
    "    principal_axis = eigenvectors[:, np.argmax(eigenvalues)]  # Principal axis\n",
    "    print(\"Principal Component Axis:\", principal_axis)\n",
    "\n",
    "    # Compute rotation matrix to align the principal axis with the Y-axis\n",
    "    y_axis = np.array([0, 1, 0])  # Target Y-axis\n",
    "    v = np.cross(principal_axis, y_axis)  # Cross product for the rotation axis\n",
    "    s = np.linalg.norm(v)  # Magnitude of the rotation axis\n",
    "    if s < 1e-6:\n",
    "        print(\"Mesh is already aligned to the Y-axis.\")\n",
    "        return mesh  # No rotation needed\n",
    "\n",
    "    c = np.dot(principal_axis, y_axis)  # Dot product for the cosine of the angle\n",
    "    v_skew = np.array([\n",
    "        [0, -v[2], v[1]],\n",
    "        [v[2], 0, -v[0]],\n",
    "        [-v[1], v[0], 0]\n",
    "    ])  # Skew-symmetric matrix for cross product\n",
    "    rotation_matrix = np.eye(3) + v_skew + np.dot(v_skew, v_skew) * ((1 - c) / (s ** 2))\n",
    "\n",
    "    # Apply the rotation\n",
    "    mesh.rotate(rotation_matrix, center=center_of_mass)\n",
    "\n",
    "    # Translate the mesh to align its center of mass in the X-Z plane\n",
    "    mesh.translate((-center_of_mass[0], 0, -center_of_mass[2]))\n",
    "    return mesh\n",
    "\n",
    "# Align both meshes to the Y-axis\n",
    "stump_mesh_aligned = align_to_y_axis(adj_stump_mesh)\n",
    "socket_mesh_aligned = align_to_y_axis(adj_socket_mesh)\n",
    "\n",
    "# Get the height of the socket\n",
    "socket_height = socket_mesh_aligned.get_max_bound()[1] - socket_mesh_aligned.get_min_bound()[1]\n",
    "\n",
    "# Position the stump below the socket\n",
    "offset = -0.1  # Adjust this offset as needed\n",
    "stump_mesh_aligned.translate((0, -socket_height - offset, 0))\n",
    "\n",
    "\n",
    "stump_aligned_pcd = stump_mesh_aligned.sample_points_uniformly(number_of_points=3000)\n",
    "socket_aligned_pcd = socket_mesh_aligned.sample_points_uniformly(number_of_points=3000)\n",
    "# Visualize both meshes\n",
    "print(\"Displaying adjusted and aligned socket and stump\")\n",
    "o3d.visualization.draw_geometries([stump_mesh_aligned, socket_mesh_aligned], window_name=\"Stump Below Socket\")\n",
    "o3d.visualization.draw_geometries([stump_aligned_pcd, socket_aligned_pcd], window_name=\"Stump Below Socket\")"
   ]
  },
  {
   "cell_type": "markdown",
   "metadata": {},
   "source": [
    "performs boolean substraction"
   ]
  },
  {
   "cell_type": "code",
   "execution_count": 8,
   "metadata": {},
   "outputs": [
    {
     "name": "stdout",
     "output_type": "stream",
     "text": [
      "Is Stump a Volume? False\n",
      "Is Socket a Volume? True\n",
      "Fixing stump to be watertight...\n",
      "Displaying the difference mesh (socket minus stump)\n",
      "\u001b[1;33m[Open3D WARNING] GLFW Error: Cocoa: Failed to find service port for display\u001b[0;m\n",
      "\u001b[1;33m[Open3D WARNING] GLFW Error: Cocoa: Failed to find service port for display\u001b[0;m\n"
     ]
    },
    {
     "data": {
      "text/html": [
       "<a href='difference_mesh.stl' target='_blank'>difference_mesh.stl</a><br>"
      ],
      "text/plain": [
       "/Users/dariusgiannoli/Documents/Npulse/difference_mesh.stl"
      ]
     },
     "metadata": {},
     "output_type": "display_data"
    },
    {
     "name": "stdout",
     "output_type": "stream",
     "text": [
      "The file has been saved to your desktop: /Users/dariusgiannoli/Desktop/difference_mesh.stl\n"
     ]
    }
   ],
   "source": [
    "import trimesh\n",
    "import open3d as o3d\n",
    "import numpy as np\n",
    "\n",
    "# Function to compute the Boolean difference between two meshes\n",
    "def compute_difference(stump_mesh, socket_mesh):\n",
    "    # Convert Open3D meshes to Trimesh\n",
    "    stump_trimesh = trimesh.Trimesh(vertices=np.asarray(stump_mesh.vertices),\n",
    "                                    faces=np.asarray(stump_mesh.triangles))\n",
    "    socket_trimesh = trimesh.Trimesh(vertices=np.asarray(socket_mesh.vertices),\n",
    "                                    faces=np.asarray(socket_mesh.triangles))\n",
    "    \n",
    "    # Check if meshes are volumes\n",
    "    print(\"Is Stump a Volume?\", stump_trimesh.is_volume)\n",
    "    print(\"Is Socket a Volume?\", socket_trimesh.is_volume)\n",
    "\n",
    "    # Fix issues if meshes are not volumes\n",
    "    if not stump_trimesh.is_watertight:\n",
    "        print(\"Fixing stump to be watertight...\")\n",
    "        stump_trimesh.fill_holes()\n",
    "    \n",
    "    if not socket_trimesh.is_watertight:\n",
    "        print(\"Fixing socket to be watertight...\")\n",
    "        socket_trimesh.fill_holes()\n",
    "    \n",
    "    # Ensure normals are consistent\n",
    "    stump_trimesh.fix_normals()\n",
    "    socket_trimesh.fix_normals()\n",
    "    \n",
    "    # As a last resort, use convex hull to ensure both are volumes\n",
    "    if not stump_trimesh.is_volume:\n",
    "        print(\"Converting stump to convex hull...\")\n",
    "        stump_trimesh = stump_trimesh.convex_hull\n",
    "    \n",
    "    if not socket_trimesh.is_volume:\n",
    "        print(\"Converting socket to convex hull...\")\n",
    "        socket_trimesh = socket_trimesh.convex_hull\n",
    "\n",
    "    # Perform Boolean difference: Socket - Stump\n",
    "    difference_trimesh = socket_trimesh.difference(stump_trimesh)\n",
    "    \n",
    "    # Convert the result back to Open3D for visualization\n",
    "    difference_mesh = o3d.geometry.TriangleMesh()\n",
    "    difference_mesh.vertices = o3d.utility.Vector3dVector(difference_trimesh.vertices)\n",
    "    difference_mesh.triangles = o3d.utility.Vector3iVector(difference_trimesh.faces)\n",
    "    difference_mesh.compute_vertex_normals()\n",
    "    \n",
    "    return difference_mesh\n",
    "\n",
    "# Compute the difference between the socket and the stump\n",
    "difference_mesh = compute_difference(stump_mesh_aligned, socket_mesh_aligned)\n",
    "\n",
    "difference_pcd = difference_mesh.sample_points_uniformly(number_of_points=3000)\n",
    "# Visualize the result\n",
    "print(\"Displaying the difference mesh (socket minus stump)\")\n",
    "o3d.visualization.draw_geometries([difference_mesh], window_name=\"Difference Mesh\")\n",
    "o3d.visualization.draw_geometries([difference_pcd], window_name=\"Difference Mesh\")\n",
    "import open3d as o3d\n",
    "import os\n",
    "from IPython.display import FileLink\n",
    "\n",
    "# Step 2: Save the mesh as an STL file\n",
    "file_name = \"difference_mesh.stl\"  # Desired file name\n",
    "o3d.io.write_triangle_mesh(file_name, difference_mesh)\n",
    "\n",
    "# Step 3: Provide a download link in the Jupyter Notebook\n",
    "display(FileLink(file_name))\n",
    "\n",
    "# Optional: Save directly to desktop\n",
    "desktop_path = os.path.join(os.path.expanduser(\"~\"), \"Desktop\", file_name)\n",
    "os.rename(file_name, desktop_path)  # Move the file to the desktop\n",
    "print(f\"The file has been saved to your desktop: {desktop_path}\")"
   ]
  }
 ],
 "metadata": {
  "kernelspec": {
   "display_name": "npulse",
   "language": "python",
   "name": "python3"
  },
  "language_info": {
   "codemirror_mode": {
    "name": "ipython",
    "version": 3
   },
   "file_extension": ".py",
   "mimetype": "text/x-python",
   "name": "python",
   "nbconvert_exporter": "python",
   "pygments_lexer": "ipython3",
   "version": "3.8.20"
  }
 },
 "nbformat": 4,
 "nbformat_minor": 2
}
